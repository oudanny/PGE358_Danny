{
 "cells": [
  {
   "cell_type": "code",
   "execution_count": null,
   "id": "a2991801-ee16-4cb8-8731-2653d46ea530",
   "metadata": {},
   "outputs": [],
   "source": [
    "import pandas as pd\n",
    "import numpy as np\n",
    "import matplotlib.pyplot as plt\n",
    "\n",
    "%matplotlib qt"
   ]
  },
  {
   "cell_type": "code",
   "execution_count": null,
   "id": "edc37bc9-b964-4b60-957d-a0efe8d2e028",
   "metadata": {},
   "outputs": [],
   "source": [
    "df = pd.read_excel('HW2_data.xlsx')\n",
    "df['DEPTH'] = df['~A DEPTH ']\n",
    "df = df.drop('~A DEPTH ', axis='columns')\n",
    "df['NPHI (ss units)'] = df['NPHI'] * 100\n",
    "df = df.loc[:1960]"
   ]
  },
  {
   "cell_type": "code",
   "execution_count": null,
   "id": "b28d158f-cda5-4fd6-a5d6-5bd2a85c33ab",
   "metadata": {},
   "outputs": [],
   "source": [
    "df.head()"
   ]
  },
  {
   "cell_type": "code",
   "execution_count": null,
   "id": "1c519180-65cf-4f04-b2f7-2bd483f23ae1",
   "metadata": {},
   "outputs": [],
   "source": [
    "df['CALI_ft'] = df['CALI']*12"
   ]
  },
  {
   "cell_type": "markdown",
   "id": "29e9e343-7a43-48ef-b5d9-c9c3f9f9878f",
   "metadata": {},
   "source": [
    "#### Part II. Question 1"
   ]
  },
  {
   "cell_type": "code",
   "execution_count": null,
   "id": "d3efba90-8618-4b80-9dea-a910c0da8fa2",
   "metadata": {},
   "outputs": [],
   "source": [
    "#THIS IS THE UPDATED CODE FOR CURRENT VERSIONS (3.9.2) OF MATPLOTLIB!!!\n",
    "\n",
    "# Create subplots with a specific grid layout (3 columns in one row)\n",
    "fig, axes = plt.subplots(1, 3, figsize=(3.5*2, 3.5*4), sharey=True)\n",
    "\n",
    "# Curve names for labeling\n",
    "curve_names = ['Caliper (CALI, in)', 'Gamma Ray (GR, API)', 'Resistivity (RILD, ohm.m)', \n",
    "               'Bulk Density (RHOB, g/cc)', 'Neutron Porosity (SS units)']\n",
    "\n",
    "ax1 = axes[0]\n",
    "ax2 = ax1.twiny()  # Create secondary axis for Caliper plot\n",
    "ax3 = axes[1]\n",
    "ax4 = axes[2]\n",
    "ax5 = ax4.twiny()  # Create secondary axis for Neutron Porosity plot\n",
    "\n",
    "# Plot data for each axis\n",
    "ax1.plot(df['CALI_ft'], df['DEPTH'], color='red', linewidth=1.25)\n",
    "ax1.invert_yaxis()\n",
    "ax1.set_ylabel('Depth (Ft)')\n",
    "ax1.set_xlim(5, 20)\n",
    "ax1.xaxis.label.set_color('red')\n",
    "ax1.tick_params(axis='x', colors='red')\n",
    "#ax1.set_ylim(df['DEPTH'].min(), df['DEPTH'].max())  # Manually set y-axis limits\n",
    "\n",
    "ax2.plot(df['GR'], df['DEPTH'], color='green', linewidth=1.25)\n",
    "ax2.set_xlim(0, 150)\n",
    "ax2.spines['top'].set_position(('axes', 1.08))\n",
    "ax2.spines['top'].set_visible(True)\n",
    "ax2.xaxis.label.set_color('green')\n",
    "ax2.tick_params(axis='x', colors='green')\n",
    "\n",
    "ax3.plot(df['RILD'], df['DEPTH'], color='red', linewidth=1.25)\n",
    "ax3.set_xscale('log')\n",
    "ax3.set_xlim(0.2, 200)\n",
    "ax3.xaxis.label.set_color('red')\n",
    "ax3.tick_params(axis='x', colors='red')\n",
    "\n",
    "ax4.plot(df['RHOB'], df['DEPTH'], color='red', linewidth=1.25)\n",
    "ax4.set_xlim(1.65, 2.65)\n",
    "ax4.xaxis.label.set_color('red')\n",
    "ax4.tick_params(axis='x', colors='red')\n",
    "ax4.set_xticks([1.65, 1.85, 2.05, 2.25, 2.45, 2.65])\n",
    "\n",
    "ax5.plot(df['NPHI (ss units)'], df['DEPTH'], color='navy', linewidth=1.25)\n",
    "ax5.set_xlim(60, 0)\n",
    "ax5.spines['top'].set_position(('axes', 1.08))\n",
    "ax5.spines['top'].set_visible(True)\n",
    "ax5.xaxis.label.set_color('navy')\n",
    "ax5.tick_params(axis='x', colors='navy')\n",
    "#ax5.fill_betweenx(df['DEPTH'], df['RHOB'], df['NPHI (ss uni)'],\n",
    "#                 where=(df['RHOB'] < df['NPHI (ss uni)']), color='cyan', interpolate=True)\n",
    "\n",
    "\n",
    "# Manually set the y-axis for all subplots\n",
    "for ax in [ax1, ax2, ax3, ax4, ax5]:\n",
    "    #ax.set_ylim(df['DEPTH'].min(), df['DEPTH'].max())  # Ensure y-axis is correctly set\n",
    "    ax.xaxis.set_ticks_position('top')\n",
    "    ax.xaxis.set_label_position('top')\n",
    "    # Define the number of gridlines (20) for each axis\n",
    "    x_min, x_max = ax.get_xlim()\n",
    "\n",
    "    if ax == ax3:  # Logarithmic scale for Resistivity plot\n",
    "        nothing = \"True\"\n",
    "    else:\n",
    "        grid_positions = np.linspace(x_min, x_max, 20)  # Linear-spaced gridlines\n",
    "    \n",
    "    if ax == ax3:\n",
    "        ax.grid(True, axis='x')   \n",
    "    else:\n",
    "        ax.set_xticks(grid_positions, minor=True)  # Use minor ticks to avoid excessive labeling\n",
    "        ax.grid(True, axis='x', linestyle='--', linewidth=0.5, which='minor')  # Gridlines on minor ticks\n",
    "# Use a for loop to assign x-axis labels from curve_names\n",
    "axes_list = [ax1, ax2, ax3, ax4, ax5]  # List of axes\n",
    "for i, ax in enumerate(axes_list):\n",
    "    ax.set_xlabel(curve_names[i])  # Set the x-axis label from curve_names\n",
    "\n",
    "# Hide y-tick labels for all axes except the first one\n",
    "for ax in fig.axes[1:]:\n",
    "    plt.setp(ax.get_yticklabels(), visible=False)\n",
    "\n",
    "\n",
    "# Adjust spacing to prevent overlap\n",
    "fig.subplots_adjust(wspace=0, hspace=0)\n",
    "\n",
    "# Title and finalize layout\n",
    "#plt.suptitle('WR313 H001', x=0.1, horizontalalignment='left', fontsize='xx-large', fontweight='bold')\n",
    "\n",
    "# Save plot\n",
    "#plt.savefig('HW_2_PartII_1_Well_logs_plot.jpg', format='jpg', dpi=300, bbox_inches='tight')\n",
    "\n",
    "# Show plot\n",
    "plt.show()\n"
   ]
  },
  {
   "cell_type": "markdown",
   "id": "bc095077-c07b-4599-ab23-73081652c9ae",
   "metadata": {},
   "source": [
    "#### Part II. Question 2"
   ]
  },
  {
   "cell_type": "code",
   "execution_count": null,
   "id": "50f86a27-b98a-49bc-8a8c-6c02a4258406",
   "metadata": {},
   "outputs": [],
   "source": []
  },
  {
   "cell_type": "markdown",
   "id": "bfdb46ac-c7ae-4c9a-a53b-206115e383a5",
   "metadata": {},
   "source": [
    "#### Part II. Question 3"
   ]
  },
  {
   "cell_type": "code",
   "execution_count": null,
   "id": "cf3933ae-4727-4328-8ba5-dc83fc6b19fa",
   "metadata": {},
   "outputs": [],
   "source": []
  },
  {
   "cell_type": "markdown",
   "id": "74b942d3-8f29-42fc-816d-2c339c324207",
   "metadata": {},
   "source": [
    "#### Part II. Question 4"
   ]
  },
  {
   "cell_type": "code",
   "execution_count": null,
   "id": "94c8b5f9-f809-4465-819e-ce7762e81876",
   "metadata": {},
   "outputs": [],
   "source": []
  },
  {
   "cell_type": "code",
   "execution_count": null,
   "id": "b4df2e95-c6f3-4a57-8095-65c12fad51f9",
   "metadata": {},
   "outputs": [],
   "source": []
  }
 ],
 "metadata": {
  "kernelspec": {
   "display_name": "Python 3 (ipykernel)",
   "language": "python",
   "name": "python3"
  },
  "language_info": {
   "codemirror_mode": {
    "name": "ipython",
    "version": 3
   },
   "file_extension": ".py",
   "mimetype": "text/x-python",
   "name": "python",
   "nbconvert_exporter": "python",
   "pygments_lexer": "ipython3",
   "version": "3.12.8"
  }
 },
 "nbformat": 4,
 "nbformat_minor": 5
}
